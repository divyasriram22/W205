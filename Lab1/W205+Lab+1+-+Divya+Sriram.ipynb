{
 "cells": [
  {
   "cell_type": "markdown",
   "metadata": {},
   "source": [
    "W205 Lab 1 - Divya Sriram\n",
    "\n",
    "Creating Amazon EC2 Server using UCB AMI\n",
    "-------------------------\n",
    "\n",
    "Provide a screenshot of the running UCB AMI that shows you have successfully launched an EC2 instance using the UCB AMI.\n",
    "\n",
    "    screenshot is a separate document (image) in the Lab 1 folder\n",
    "\n",
    "Provide the answers to the following questions in a file called Lab1-answers.txt\n",
    "\n",
    "Q1: What is the difference between EBS and S3?\n",
    "    \n",
    "    EBS is Amazon's elastic block store, which eseentailly is a virual hard drive to use with EC2. It is not a storage \n",
    "    service that exists alone, without an EC2 like S3 is. S3 is Amazon's simple storage service that can store and \n",
    "    retrieve any amount of data from any EC2.\n",
    "\n",
    "Q2: When would you consider a cloud infrastructure for your data science tasks?\n",
    "    \n",
    "    A cloud infrastructure is best used when on a budget because it is a cheaper option. When your data science task \n",
    "    requires low IOPS and you can process your data elsewhere (not on the cloud infrastructure itself), and your main \n",
    "    intention is to store data, then this is the best way to go.\n",
    "\n",
    "Q3: What is the difference between spot instances and reserved instances?\n",
    "    \n",
    "    There appears to be no difference in performance between the two. The spot instance is cheaper than the spot \n",
    "    instance and is paid for by bidding on the spot (EC2 instance). However the spot can be sold to someone else when \n",
    "    it's value increases from your bid price. The reserved instance lets you pay by upfront to use a particular system \n",
    "    for a certain period of time.\n",
    "\n",
    "Q4: List the names of four software packages installed on the UCB AMI\n",
    "    \n",
    "    Python, Linux, Apache Storm, Hadoop"
   ]
  },
  {
   "cell_type": "code",
   "execution_count": null,
   "metadata": {
    "collapsed": true
   },
   "outputs": [],
   "source": []
  }
 ],
 "metadata": {
  "anaconda-cloud": {},
  "kernelspec": {
   "display_name": "Python [default]",
   "language": "python",
   "name": "python2"
  },
  "language_info": {
   "codemirror_mode": {
    "name": "ipython",
    "version": 2
   },
   "file_extension": ".py",
   "mimetype": "text/x-python",
   "name": "python",
   "nbconvert_exporter": "python",
   "pygments_lexer": "ipython2",
   "version": "2.7.12"
  }
 },
 "nbformat": 4,
 "nbformat_minor": 1
}
