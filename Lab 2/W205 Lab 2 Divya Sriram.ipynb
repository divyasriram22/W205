{
 "cells": [
  {
   "cell_type": "markdown",
   "metadata": {},
   "source": [
    "W205 Lab 2 Submissions Divya Sriram"
   ]
  },
  {
   "cell_type": "markdown",
   "metadata": {},
   "source": [
    "1. List the HDFS contents of /user\n",
    "\n",
    "[w205@ip-172-31-6-250 ~]$ hdfs dfs -ls /user \n",
    "Found 8 items\n",
    "drwxr-xr-x   - mapred  supergroup          0 2017-01-21 00:52 /user/history\n",
    "drwxrwxrwx   - hive    supergroup          0 2017-01-21 00:52 /user/hive\n",
    "drwxrwxrwx   - hue     supergroup          0 2017-01-21 00:53 /user/hue\n",
    "drwxrwxrwx   - jenkins supergroup          0 2017-01-21 00:52 /user/jenkins\n",
    "drwxrwxrwx   - oozie   supergroup          0 2017-01-21 00:54 /user/oozie\n",
    "drwxrwxrwx   - root    supergroup          0 2017-01-21 00:53 /user/root\n",
    "drwxr-xr-x   - hdfs    supergroup          0 2017-01-21 00:56 /user/spark\n",
    "drwxr-xr-x   - w205    supergroup          0 2017-01-22 21:02 /user/w205"
   ]
  },
  {
   "cell_type": "markdown",
   "metadata": {},
   "source": [
    "2. Inspect the output of the HDFS admin report and answer the following questions in a text file.\n",
    "(To generate this, exit from the w205 user and type: sudo -u hdfs hdfs dfsadmin -report)\n",
    "\n",
    "\n",
    "    Q1: How many live datanodes are there?\n",
    "    Answer:\n",
    "        \n",
    "        Live datanodes (1):\n",
    "\n",
    "        Name: 127.0.0.1:50010 (localhost)\n",
    "        \n",
    "        \n",
    "    \n",
    "    Q2: How much non-DFS storage is used?\n",
    "    Answer: \n",
    "    \n",
    "    \n",
    "        Non DFS Used: 55093882880 (51.31 GB)\n",
    "    \n",
    "    \n",
    "    \n",
    "    Q3: How much DFS storage is used?\n",
    "    Answer:\n",
    "    \n",
    "        DFS Used: 143515648 (136.87 MB)"
   ]
  },
  {
   "cell_type": "code",
   "execution_count": null,
   "metadata": {
    "collapsed": true
   },
   "outputs": [],
   "source": []
  }
 ],
 "metadata": {
  "anaconda-cloud": {},
  "kernelspec": {
   "display_name": "Python [default]",
   "language": "python",
   "name": "python2"
  },
  "language_info": {
   "codemirror_mode": {
    "name": "ipython",
    "version": 2
   },
   "file_extension": ".py",
   "mimetype": "text/x-python",
   "name": "python",
   "nbconvert_exporter": "python",
   "pygments_lexer": "ipython2",
   "version": "2.7.12"
  }
 },
 "nbformat": 4,
 "nbformat_minor": 1
}
