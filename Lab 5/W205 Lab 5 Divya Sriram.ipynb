{
 "cells": [
  {
   "cell_type": "markdown",
   "metadata": {},
   "source": [
    "W205 Lab 2 Submissions Divya Sriram"
   ]
  },
  {
   "cell_type": "markdown",
   "metadata": {},
   "source": [
    "Question 1: What is the output of \\dt?\n",
    "\n",
    "The output of \\dt gives you a list of all the tables available in the d (categorized by schema, type\n",
    "\n"
   ]
  },
  {
   "cell_type": "markdown",
   "metadata": {
    "collapsed": true
   },
   "source": [
    "Question 2: What is the schema for the customer table?\n",
    "    \n",
    "The customer table has 10 or so attributes for each customer that has checked out a DVD.\n",
    "\n"
   ]
  },
  {
   "cell_type": "markdown",
   "metadata": {},
   "source": [
    "Question 3:\n",
    "\n",
    "When running a query, it's important to know what to expect in regards to running the query itself and the results we obtain. \"EXPLAIN\" is a command that helps the query user to understand the efficiency of the query and possibly the cost involved. Essentially, explain plans allow users to optimize queries.\n",
    "\n",
    "For all the queries above, the explain plan tells us that we will do a (seq)table scan. According to the displayed cost values, they seem to be the same for each of the queries as well. \n",
    "\n",
    "As for differences, the most obvious one I spot is with the rows and columns that are specified for the seq scan. It also obvious that the 2nd and 3rd queries are more involved in terms of processing because of the filters set in place for the WHERE clause.\n"
   ]
  },
  {
   "cell_type": "markdown",
   "metadata": {
    "collapsed": true
   },
   "source": [
    "Question 4:\n",
    "\n",
    "The cost to run the Union query is greater than that of the Partition query. This seems justified considering that the Union query requires combining two tables worth of data (inherently more processing of data) while the Partition query uses only one table, or a portion of that table."
   ]
  },
  {
   "cell_type": "markdown",
   "metadata": {
    "collapsed": true
   },
   "source": [
    "Question 5:\n",
    "\n",
    "A hash join algorithm is used for the inner join. In this algorithm, a temporary hash table is formed as one table is scanned by its entries. Ultimately,  the algorithm returns the entries that are in common for both tables."
   ]
  },
  {
   "cell_type": "markdown",
   "metadata": {},
   "source": []
  }
 ],
 "metadata": {
  "anaconda-cloud": {},
  "kernelspec": {
   "display_name": "Python [default]",
   "language": "python",
   "name": "python2"
  },
  "language_info": {
   "codemirror_mode": {
    "name": "ipython",
    "version": 2
   },
   "file_extension": ".py",
   "mimetype": "text/x-python",
   "name": "python",
   "nbconvert_exporter": "python",
   "pygments_lexer": "ipython2",
   "version": "2.7.12"
  }
 },
 "nbformat": 4,
 "nbformat_minor": 1
}
