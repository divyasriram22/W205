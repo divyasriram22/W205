{
 "cells": [
  {
   "cell_type": "markdown",
   "metadata": {},
   "source": [
    "### Finding Variable Names for Characters"
   ]
  },
  {
   "cell_type": "code",
   "execution_count": null,
   "metadata": {
    "collapsed": true
   },
   "outputs": [],
   "source": [
    "MATCH (drstrange:Hero)\n",
    "WHERE drstrange.name STARTS WITH \"DR. STRANGE\"\n",
    "RETURN drstrange"
   ]
  },
  {
   "cell_type": "code",
   "execution_count": null,
   "metadata": {
    "collapsed": true
   },
   "outputs": [],
   "source": [
    "MATCH (drdoom:Hero)\n",
    "WHERE drdoom.name STARTS WITH \"DR. DOOM\"\n",
    "RETURN drdoom"
   ]
  },
  {
   "cell_type": "markdown",
   "metadata": {},
   "source": [
    "### Q1: What is the shortest path between DR. STRANGE and DR. DOOM?"
   ]
  },
  {
   "cell_type": "code",
   "execution_count": null,
   "metadata": {
    "collapsed": true
   },
   "outputs": [],
   "source": [
    "MATCH p=(dr:Hero {name: 'DR. STRANGE/STEPHEN'})-[:APPEARED*0..2]-(logan:Hero {name: 'DR. DOOM/VICTOR VON'})\n",
    "RETURN p, length(p)\n",
    "ORDER BY length(p)\n",
    "LIMIT 1"
   ]
  },
  {
   "cell_type": "markdown",
   "metadata": {},
   "source": [
    "### Q2: List the 5 shortest paths between DR. STRANGE and DR. DOOM"
   ]
  },
  {
   "cell_type": "code",
   "execution_count": null,
   "metadata": {
    "collapsed": true
   },
   "outputs": [],
   "source": [
    "MATCH p=(dr:Hero {name: 'DR. STRANGE/STEPHEN'})-[:APPEARED*0..2]-(logan:Hero {name: 'DR. DOOM/VICTOR VON'})\n",
    "RETURN p, length(p)\n",
    "ORDER BY length(p)\n",
    "LIMIT 5"
   ]
  },
  {
   "cell_type": "markdown",
   "metadata": {},
   "source": [
    "### Q3: List the 5 shortest paths between DR. STRANGE and DR. DOOM List 5 Friends of Friends with the most connections and COLOSSUS II"
   ]
  },
  {
   "cell_type": "markdown",
   "metadata": {},
   "source": [
    "#### finding variable name for Colossus II "
   ]
  },
  {
   "cell_type": "code",
   "execution_count": null,
   "metadata": {
    "collapsed": true
   },
   "outputs": [],
   "source": [
    "MATCH (colossus:Hero)\n",
    "WHERE colossus.name STARTS WITH \"COLOSSUS\"\n",
    "RETURN colossus"
   ]
  },
  {
   "cell_type": "code",
   "execution_count": null,
   "metadata": {
    "collapsed": true
   },
   "outputs": [],
   "source": [
    "MATCH (colossus:Hero { name: 'COLOSSUS II/PETER RA' })-[:APPEARED*2..2]-(friend_of_friend)\n",
    "WHERE NOT (colossus)-[:APPEARED]-(friend_of_friend)\n",
    "AND friend_of_friend.name <> 'COLOSSUS II/PETER RA'\n",
    "RETURN friend_of_friend.name, COUNT(*)\n",
    "ORDER BY COUNT(*) DESC , friend_of_friend.name\n",
    "LIMIT 5\n"
   ]
  },
  {
   "cell_type": "markdown",
   "metadata": {},
   "source": [
    "### Q4: Visualize 10 Friends of friends for IRON MAN"
   ]
  },
  {
   "cell_type": "markdown",
   "metadata": {},
   "source": [
    "#### finding variable name for Iron Man"
   ]
  },
  {
   "cell_type": "code",
   "execution_count": null,
   "metadata": {
    "collapsed": true
   },
   "outputs": [],
   "source": [
    "MATCH (ironman:Hero)\n",
    "WHERE ironman.name STARTS WITH \"IRON MAN\"\n",
    "RETURN ironman"
   ]
  },
  {
   "cell_type": "code",
   "execution_count": null,
   "metadata": {
    "collapsed": true
   },
   "outputs": [],
   "source": [
    "MATCH (ironman:Hero { name: 'IRON MAN/TONY STARK' })-[:APPEARED*2..2]-(friend_of_friend)\n",
    "WHERE NOT (ironman)-[:APPEARED]-(friend_of_friend)\n",
    "AND friend_of_friend.name <> 'IRON MAN/TONY STARK'\n",
    "RETURN friend_of_friend\n",
    "LIMIT 10"
   ]
  },
  {
   "cell_type": "markdown",
   "metadata": {},
   "source": [
    "### Q5: Discover how the Avengers grew over time from 5 to 10. Find team members starting with 5 and incrementing to 10. Who was added to the team? Is the resulting graph ever not fully connected?"
   ]
  },
  {
   "cell_type": "code",
   "execution_count": null,
   "metadata": {
    "collapsed": true
   },
   "outputs": [],
   "source": [
    "MATCH (tony:Hero {name:'IRON MAN/TONY STARK'}) -[e:APPEARED]-> (other) <-[f:APPEARED]- (donald:Hero {name:'THOR/DR. DONALD BLAK'})\n",
    "RETURN other\n",
    "ORDER BY e.w DESC, f.w DESC\n",
    "LIMIT 5"
   ]
  },
  {
   "cell_type": "markdown",
   "metadata": {},
   "source": [
    "First 5 Members:\n",
    "    1. CAPTAIN AMERICA\n",
    "    2. SCARLET WITCH/WANDA\n",
    "    3. VISION\n",
    "    4. WASP/JANET VAN DYNE\n",
    "    5. ANT-MAN/DR. HENRY J."
   ]
  },
  {
   "cell_type": "markdown",
   "metadata": {},
   "source": [
    "6th Member: WONDER MAN/SIMON WIL"
   ]
  },
  {
   "cell_type": "markdown",
   "metadata": {},
   "source": [
    "7th Member: HAWK"
   ]
  },
  {
   "cell_type": "markdown",
   "metadata": {},
   "source": [
    "8th Member: IRON MAN IV/JAMES R."
   ]
  },
  {
   "cell_type": "markdown",
   "metadata": {},
   "source": [
    "9th Member: JARVIS, EDWIN"
   ]
  },
  {
   "cell_type": "markdown",
   "metadata": {},
   "source": [
    "10th Member: MR. FANTASTIC/REED R"
   ]
  },
  {
   "cell_type": "code",
   "execution_count": null,
   "metadata": {
    "collapsed": true
   },
   "outputs": [],
   "source": [
    "MATCH (tony:Hero {name:'IRON MAN/TONY STARK'}) -[e:APPEARED]-> (other) <-[f:APPEARED]- (donald:Hero {name:'THOR/DR. DONALD BLAK'})\n",
    "RETURN other\n",
    "ORDER BY e.w DESC, f.w DESC\n",
    "LIMIT 10"
   ]
  },
  {
   "cell_type": "markdown",
   "metadata": {},
   "source": [
    "All the graphs seem to depict that the characters are fully connected."
   ]
  },
  {
   "cell_type": "code",
   "execution_count": null,
   "metadata": {
    "collapsed": true
   },
   "outputs": [],
   "source": []
  }
 ],
 "metadata": {
  "kernelspec": {
   "display_name": "Python 2",
   "language": "python",
   "name": "python2"
  },
  "language_info": {
   "codemirror_mode": {
    "name": "ipython",
    "version": 2
   },
   "file_extension": ".py",
   "mimetype": "text/x-python",
   "name": "python",
   "nbconvert_exporter": "python",
   "pygments_lexer": "ipython2",
   "version": "2.7.13"
  }
 },
 "nbformat": 4,
 "nbformat_minor": 2
}
