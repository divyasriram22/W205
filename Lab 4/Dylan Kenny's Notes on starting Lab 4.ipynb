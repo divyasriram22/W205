{
 "cells": [
  {
   "cell_type": "markdown",
   "metadata": {},
   "source": [
    "Step 0\n",
    "$SPARK_HOME will be pointing to either /home/w205/spark15 if you're w205 or /root/spark15 (which doesn't exist) if you're root. I suspect $SPARK_HOME is just set to ~/spark15. So make sure you're on the w205 account.\n",
    "\n",
    "The prompt refers to a .bash_profile file. This is in your home directory, so it's actually, ~/.bash_profile . This file does not contain the exports mentioned. SPARK_HOME is actually defined in /etc/profile, which gets applied to all users. This explains why root has a SPARK_HOME variable, despite it not actually linking to anything. The first export isn't really necessary (and also shouldn't link to /usr/lib/spark, as it doesn't exist), the 2nd one is already defined in /etc/profile, and the 3rd is not executed yet. You should add the following export to your ~/.bash_profile:\n",
    "\n",
    "export PATH=$SPARK_HOME/bin:$PATH\n",
    "\n",
    "then exit out of the w205 user, and su - w205 again, so that it reloads your shell and reads your bash_profile.\n",
    "\n",
    "The updated link specifically for the crime dataset is:\n",
    "https://github.com/UC-Berkeley-I-School/w205-spring-17-labs-exercises/tree/master/data/Crimes_-_2001_to_present_data\n",
    "\n",
    "The link you want to clone is outdated. When you do a git clone, use the following link, which you probably have cloned already:\n",
    "https://github.com/UC-Berkeley-I-School/w205-spring-17-labs-exercises.git\n",
    "I recommend cloning this into your home directory by doing the following (as\n",
    "the w205 user):\n",
    "cd\n",
    "git clone https://github.com/UC-Berkeley-I-School/w205-spring-17-labs-exercises.git\n",
    "\n",
    "\n",
    "Step 1\n",
    "replace /usr/lib/spark/conf /home/w205/spark15/conf\n",
    "\n",
    "Step 2\n",
    "If you cloned the repo into the w205 home directory, then you can use the\n",
    "command:\n",
    "crimedata=sc.textFile(\"file:///home/w205/w205-spring-17-labs-exercises/data/Crimes_-_2001_to_present_data/Crimes_-_2005_to_present.csv\")\n",
    "\n",
    "Step 3\n",
    "Food for thought: Why did it take forever to count narcoticsCrimes, but\n",
    "defining it was instantaneous? Does it not actually compute it until\n",
    "necessary? Also, does it recompute it every time it's called?\n",
    "\n",
    "Step 6\n",
    "If you cloned the git repo, you should be able to load in the weblog_lab.csv with the following command:\n",
    "LOAD DATA LOCAL INPATH \"/home/w205/w205-spring-17-labs-exercises/data/weblog_lab.csv\" INTO TABLE web_session_log;\n",
    "\n",
    "Step 7\n",
    "Web_Session_Log ias referred to as both \"Web_Session_Log\" and \"Web_Session_log\". Make sure you stay consistent or your createDataFrame will complain it's not defined.\n",
    "\n",
    "The one query has a few issues, which are kinda addressed in the prompt below\n",
    "the query.\n",
    "web_session_log needs to be Web_Session_Log (or whichever you named it) and "
   ]
  },
  {
   "cell_type": "code",
   "execution_count": null,
   "metadata": {
    "collapsed": true
   },
   "outputs": [],
   "source": []
  }
 ],
 "metadata": {
  "anaconda-cloud": {},
  "kernelspec": {
   "display_name": "Python [default]",
   "language": "python",
   "name": "python2"
  },
  "language_info": {
   "codemirror_mode": {
    "name": "ipython",
    "version": 2
   },
   "file_extension": ".py",
   "mimetype": "text/x-python",
   "name": "python",
   "nbconvert_exporter": "python",
   "pygments_lexer": "ipython2",
   "version": "2.7.12"
  }
 },
 "nbformat": 4,
 "nbformat_minor": 1
}
